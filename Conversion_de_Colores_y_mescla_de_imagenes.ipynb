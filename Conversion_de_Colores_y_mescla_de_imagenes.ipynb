{
  "nbformat": 4,
  "nbformat_minor": 0,
  "metadata": {
    "colab": {
      "name": "Conversion de Colores y mescla de imagenes",
      "provenance": [],
      "private_outputs": true,
      "authorship_tag": "ABX9TyM9kqDW3HOBbOM0FUa0ttAK",
      "include_colab_link": true
    },
    "kernelspec": {
      "name": "python3",
      "display_name": "Python 3"
    }
  },
  "cells": [
    {
      "cell_type": "markdown",
      "metadata": {
        "id": "view-in-github",
        "colab_type": "text"
      },
      "source": [
        "<a href=\"https://colab.research.google.com/github/INFINITY-RUBER/Python-y-OpenC--para-visi-n-por-ordenador--Computer-Vision-/blob/master/Conversion_de_Colores_y_mescla_de_imagenes.ipynb\" target=\"_parent\"><img src=\"https://colab.research.google.com/assets/colab-badge.svg\" alt=\"Open In Colab\"/></a>"
      ]
    },
    {
      "cell_type": "code",
      "metadata": {
        "id": "vmTsuriF4uXs",
        "colab_type": "code",
        "colab": {}
      },
      "source": [
        "import numpy as np\n",
        "import matplotlib.pyplot as plt\n",
        "import cv2 \n"
      ],
      "execution_count": null,
      "outputs": []
    },
    {
      "cell_type": "code",
      "metadata": {
        "id": "mf-EUwu4A6SZ",
        "colab_type": "code",
        "colab": {}
      },
      "source": [
        "imagen = cv2.imread('cat_or_dog_4.jpg')\n",
        "plt.imshow(imagen)"
      ],
      "execution_count": null,
      "outputs": []
    },
    {
      "cell_type": "markdown",
      "metadata": {
        "id": "AghKpE0idPL6",
        "colab_type": "text"
      },
      "source": [
        "Modificar colores RGB"
      ]
    },
    {
      "cell_type": "code",
      "metadata": {
        "id": "aPM7xbP6BA6W",
        "colab_type": "code",
        "colab": {}
      },
      "source": [
        "Modificar colores RGB"
      ],
      "execution_count": null,
      "outputs": []
    },
    {
      "cell_type": "code",
      "metadata": {
        "id": "WYsnS1cvBJtK",
        "colab_type": "code",
        "colab": {}
      },
      "source": [
        "imagen_2 = cv2.cvtColor(imagen, cv2.COLOR_BGR2RGB)\n",
        "plt.imshow(imagen_2)"
      ],
      "execution_count": null,
      "outputs": []
    },
    {
      "cell_type": "code",
      "metadata": {
        "id": "6muOdW85p4DG",
        "colab_type": "code",
        "colab": {}
      },
      "source": [
        " # HSV >>  MATRIX SATURACION Y COLOR \n",
        "imagen_2 = cv2.cvtColor(imagen, cv2.COLOR_BGR2HSV)\n",
        "plt.imshow(imagen_2)"
      ],
      "execution_count": null,
      "outputs": []
    },
    {
      "cell_type": "code",
      "metadata": {
        "id": "U-wYosMBq9I-",
        "colab_type": "code",
        "colab": {}
      },
      "source": [
        " # HLS >>  MATRIX SATURACION Y LUMINOCIDAD \n",
        "imagen_2 = cv2.cvtColor(imagen, cv2.COLOR_BGR2HLS)\n",
        "plt.imshow(imagen_2)"
      ],
      "execution_count": null,
      "outputs": []
    },
    {
      "cell_type": "code",
      "metadata": {
        "id": "sT8ShO7JeqYn",
        "colab_type": "code",
        "colab": {}
      },
      "source": [
        "imagen_2 = cv2.cvtColor(imagen, cv2.COLOR_BGR2XYZ)\n",
        "plt.imshow(imagen_2)"
      ],
      "execution_count": null,
      "outputs": []
    },
    {
      "cell_type": "markdown",
      "metadata": {
        "id": "JAuDYXh1rLt8",
        "colab_type": "text"
      },
      "source": [
        "# MESCLAR IMAGENES"
      ]
    },
    {
      "cell_type": "code",
      "metadata": {
        "id": "jQqxfGuWe5wB",
        "colab_type": "code",
        "colab": {}
      },
      "source": [
        "imagen0 = cv2.cvtColor(imagen, cv2.COLOR_BGR2RGB)\n",
        "plt.imshow(imagen0)"
      ],
      "execution_count": null,
      "outputs": []
    },
    {
      "cell_type": "code",
      "metadata": {
        "id": "x6wQsCWIrwSB",
        "colab_type": "code",
        "colab": {}
      },
      "source": [
        "imagen_agua = cv2.imread('marca-agua-redaitcurso.jpg')\n",
        "plt.imshow(imagen_agua)"
      ],
      "execution_count": null,
      "outputs": []
    },
    {
      "cell_type": "code",
      "metadata": {
        "id": "1lP5TAYmsO16",
        "colab_type": "code",
        "colab": {}
      },
      "source": [
        "# tamaños de las imagnes a procesar\n",
        "imagen_agua.shape"
      ],
      "execution_count": null,
      "outputs": []
    },
    {
      "cell_type": "code",
      "metadata": {
        "id": "tBMJKwIssXmY",
        "colab_type": "code",
        "colab": {}
      },
      "source": [
        "imagen0.shape"
      ],
      "execution_count": null,
      "outputs": []
    },
    {
      "cell_type": "markdown",
      "metadata": {
        "id": "ktKjg0VVsgoH",
        "colab_type": "text"
      },
      "source": [
        "### modificacion de tamaño"
      ]
    },
    {
      "cell_type": "code",
      "metadata": {
        "id": "bY-21EFoslkL",
        "colab_type": "code",
        "colab": {}
      },
      "source": [
        "imagen_agua = cv2.resize(imagen_agua, (1200, 1200))\n",
        "imagen_agua.shape"
      ],
      "execution_count": null,
      "outputs": []
    },
    {
      "cell_type": "code",
      "metadata": {
        "id": "Lcn2aS0gs923",
        "colab_type": "code",
        "colab": {}
      },
      "source": [
        "imagen0 = cv2.resize(imagen0, (1200, 1200))\n",
        "imagen0.shape"
      ],
      "execution_count": null,
      "outputs": []
    },
    {
      "cell_type": "markdown",
      "metadata": {
        "id": "R6IvWc7rtEaG",
        "colab_type": "text"
      },
      "source": [
        "# Juntar imagenes"
      ]
    },
    {
      "cell_type": "code",
      "metadata": {
        "id": "4BxyVGNotDi5",
        "colab_type": "code",
        "colab": {}
      },
      "source": [
        "imagen_merge = cv2.addWeighted(src1=imagen_agua, alpha=0.3, src2=imagen0, beta=0.8, gamma=0)\n",
        "plt.imshow(imagen_merge)"
      ],
      "execution_count": null,
      "outputs": []
    },
    {
      "cell_type": "markdown",
      "metadata": {
        "id": "YHPYAbmVv0A7",
        "colab_type": "text"
      },
      "source": [
        "# Mescla de imagenes con tamaños diferentes"
      ]
    },
    {
      "cell_type": "code",
      "metadata": {
        "id": "K6H0r4fnuy2b",
        "colab_type": "code",
        "colab": {}
      },
      "source": [
        "imagen_1 = cv2.imread('cat_or_dog_4.jpg')\n",
        "imagen_1 = cv2.cvtColor(imagen_1, cv2.COLOR_BGR2RGB)\n",
        "plt.imshow(imagen_1)"
      ],
      "execution_count": null,
      "outputs": []
    },
    {
      "cell_type": "code",
      "metadata": {
        "id": "9rhCWMYPwlzL",
        "colab_type": "code",
        "colab": {}
      },
      "source": [
        "imagen_2 = cv2.imread('logo-redaitcursos.jpg')\n",
        "imagen_2 = cv2.cvtColor(imagen_2, cv2.COLOR_BGR2RGB)\n",
        "plt.imshow(imagen_2)"
      ],
      "execution_count": null,
      "outputs": []
    },
    {
      "cell_type": "code",
      "metadata": {
        "id": "AWnxMoXbxOZV",
        "colab_type": "code",
        "colab": {}
      },
      "source": [
        "v.shape"
      ],
      "execution_count": null,
      "outputs": []
    },
    {
      "cell_type": "code",
      "metadata": {
        "id": "MOlMMBqixOJJ",
        "colab_type": "code",
        "colab": {}
      },
      "source": [
        "imagen_2.shape"
      ],
      "execution_count": null,
      "outputs": []
    },
    {
      "cell_type": "code",
      "metadata": {
        "id": "NrGskBScxUwo",
        "colab_type": "code",
        "colab": {}
      },
      "source": [
        "imagen_2 = cv2.resize(imagen_2, (500,300))# (Ancho , Alto)\n",
        "imagen_2.shape # (Alto, ancho, dimencion)"
      ],
      "execution_count": null,
      "outputs": []
    },
    {
      "cell_type": "code",
      "metadata": {
        "id": "iqGp1EhbySzO",
        "colab_type": "code",
        "colab": {}
      },
      "source": [
        "plt.imshow(imagen_2)"
      ],
      "execution_count": null,
      "outputs": []
    },
    {
      "cell_type": "markdown",
      "metadata": {
        "id": "7flICcY4y6kI",
        "colab_type": "text"
      },
      "source": [
        "# recortar imagen"
      ]
    },
    {
      "cell_type": "code",
      "metadata": {
        "id": "9OSqaQ-fyTRh",
        "colab_type": "code",
        "colab": {}
      },
      "source": [
        "parte_imagen_1 = imagen_1[:300]\n",
        "plt.imshow(parte_imagen_1)"
      ],
      "execution_count": null,
      "outputs": []
    },
    {
      "cell_type": "code",
      "metadata": {
        "id": "j2lSliSjz_tO",
        "colab_type": "code",
        "colab": {}
      },
      "source": [
        "parte_img_merge = cv2.addWeighted(src1=parte_imagen_1, alpha=0.5, src2=imagen_2, beta=0.5, gamma=0)\n",
        "plt.imshow(parte_img_merge)\n"
      ],
      "execution_count": null,
      "outputs": []
    },
    {
      "cell_type": "markdown",
      "metadata": {
        "id": "RcEk3dmj0yGo",
        "colab_type": "text"
      },
      "source": [
        "## Pegar imagenes\n"
      ]
    },
    {
      "cell_type": "code",
      "metadata": {
        "id": "qCUYtEpD01hR",
        "colab_type": "code",
        "colab": {}
      },
      "source": [
        "imagen_1[:300] = parte_img_merge\n",
        "plt.imshow(imagen_1)"
      ],
      "execution_count": null,
      "outputs": []
    }
  ]
}