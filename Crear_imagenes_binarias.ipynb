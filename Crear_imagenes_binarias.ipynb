{
  "nbformat": 4,
  "nbformat_minor": 0,
  "metadata": {
    "colab": {
      "name": "Crear imagenes binarias.ipynb",
      "provenance": [],
      "private_outputs": true,
      "authorship_tag": "ABX9TyMMAgXqoDBnyJI9NAry4w+E",
      "include_colab_link": true
    },
    "kernelspec": {
      "name": "python3",
      "display_name": "Python 3"
    }
  },
  "cells": [
    {
      "cell_type": "markdown",
      "metadata": {
        "id": "view-in-github",
        "colab_type": "text"
      },
      "source": [
        "<a href=\"https://colab.research.google.com/github/INFINITY-RUBER/Python-y-OpenC--para-visi-n-por-ordenador--Computer-Vision-/blob/master/Crear_imagenes_binarias.ipynb\" target=\"_parent\"><img src=\"https://colab.research.google.com/assets/colab-badge.svg\" alt=\"Open In Colab\"/></a>"
      ]
    },
    {
      "cell_type": "code",
      "metadata": {
        "id": "JUAfpM2HpMjb",
        "colab_type": "code",
        "colab": {}
      },
      "source": [
        "import numpy as np\n",
        "import matplotlib.pyplot as plt\n",
        "import cv2"
      ],
      "execution_count": null,
      "outputs": []
    },
    {
      "cell_type": "code",
      "metadata": {
        "id": "YHcQO0T9qMzy",
        "colab_type": "code",
        "colab": {}
      },
      "source": [
        "imagen = cv2.imread('perro.jpg')\n",
        "imagen = cv2.cvtColor(imagen, cv2.COLOR_BGR2RGB)\n",
        "plt.imshow(imagen)"
      ],
      "execution_count": null,
      "outputs": []
    },
    {
      "cell_type": "markdown",
      "metadata": {
        "id": "ehCMSCdmrCRB",
        "colab_type": "text"
      },
      "source": [
        "### Imagen a escala de Grises"
      ]
    },
    {
      "cell_type": "code",
      "metadata": {
        "id": "PVhmnwz3rGnp",
        "colab_type": "code",
        "colab": {}
      },
      "source": [
        "imagen = cv2.imread('perro.jpg', 0)\n",
        "plt.imshow(imagen, cmap='gray')"
      ],
      "execution_count": null,
      "outputs": []
    },
    {
      "cell_type": "markdown",
      "metadata": {
        "id": "AdKeMIaZrfWH",
        "colab_type": "text"
      },
      "source": [
        "## Imagen binaria"
      ]
    },
    {
      "cell_type": "code",
      "metadata": {
        "id": "CDX1DCwdrWSO",
        "colab_type": "code",
        "colab": {}
      },
      "source": [
        "mitad, imagen = cv2.threshold(imagen, 255/2, 255, cv2.THRESH_BINARY)\n",
        "plt.imshow(imagen, cmap='gray')"
      ],
      "execution_count": null,
      "outputs": []
    },
    {
      "cell_type": "code",
      "metadata": {
        "id": "KZf2uBxwsxla",
        "colab_type": "code",
        "colab": {}
      },
      "source": [
        "mitad, imagen = cv2.threshold(imagen, 255/2, 255, cv2.THRESH_BINARY_INV)\n",
        "plt.imshow(imagen, cmap='gray')"
      ],
      "execution_count": null,
      "outputs": []
    },
    {
      "cell_type": "markdown",
      "metadata": {
        "id": "BFtwXOvJs_y6",
        "colab_type": "text"
      },
      "source": [
        "# Mostrar imagenes en varios tamaños"
      ]
    },
    {
      "cell_type": "code",
      "metadata": {
        "id": "fl01WtC2tF_P",
        "colab_type": "code",
        "colab": {}
      },
      "source": [
        "imagen = cv2.imread('perro.jpg')\n",
        "imagen = cv2.cvtColor(imagen, cv2.COLOR_BGR2RGB)\n",
        "plt.imshow(imagen)\n"
      ],
      "execution_count": null,
      "outputs": []
    },
    {
      "cell_type": "code",
      "metadata": {
        "id": "uZLGk4-rts4T",
        "colab_type": "code",
        "colab": {}
      },
      "source": [
        "imagen.shape"
      ],
      "execution_count": null,
      "outputs": []
    },
    {
      "cell_type": "code",
      "metadata": {
        "id": "a8lsk63EtvGj",
        "colab_type": "code",
        "colab": {}
      },
      "source": [
        "figura = plt.figure(figsize=(10,10))\n",
        "lienzo = figura.add_subplot(111)\n",
        "lienzo.imshow(imagen)"
      ],
      "execution_count": null,
      "outputs": []
    },
    {
      "cell_type": "code",
      "metadata": {
        "id": "5WgQPZjDvPU2",
        "colab_type": "code",
        "colab": {}
      },
      "source": [
        "figura = plt.figure(figsize=(20,20))#figsize=(Ancho x Alto)\n",
        "lienzo = figura.add_subplot(111)\n",
        "lienzo.imshow(imagen)"
      ],
      "execution_count": null,
      "outputs": []
    },
    {
      "cell_type": "code",
      "metadata": {
        "id": "MAkI4mYFvfON",
        "colab_type": "code",
        "colab": {}
      },
      "source": [
        "imagen.shape"
      ],
      "execution_count": null,
      "outputs": []
    },
    {
      "cell_type": "code",
      "metadata": {
        "id": "IjBmSeAUvhQa",
        "colab_type": "code",
        "colab": {}
      },
      "source": [
        ""
      ],
      "execution_count": null,
      "outputs": []
    }
  ]
}