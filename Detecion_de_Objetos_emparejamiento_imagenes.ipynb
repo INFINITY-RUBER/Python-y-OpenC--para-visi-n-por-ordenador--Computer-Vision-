{
  "nbformat": 4,
  "nbformat_minor": 0,
  "metadata": {
    "colab": {
      "name": "Detecion de Objetos-emparejamiento-imagenes.ipynb",
      "provenance": [],
      "private_outputs": true,
      "authorship_tag": "ABX9TyMt6LnhpIZnFsGBT+uVegEt",
      "include_colab_link": true
    },
    "kernelspec": {
      "name": "python3",
      "display_name": "Python 3"
    }
  },
  "cells": [
    {
      "cell_type": "markdown",
      "metadata": {
        "id": "view-in-github",
        "colab_type": "text"
      },
      "source": [
        "<a href=\"https://colab.research.google.com/github/INFINITY-RUBER/Python-y-OpenC--para-visi-n-por-ordenador--Computer-Vision-/blob/master/Detecion_de_Objetos_emparejamiento_imagenes.ipynb\" target=\"_parent\"><img src=\"https://colab.research.google.com/assets/colab-badge.svg\" alt=\"Open In Colab\"/></a>"
      ]
    },
    {
      "cell_type": "code",
      "metadata": {
        "id": "ObuRJ4FJf0DQ",
        "colab_type": "code",
        "colab": {}
      },
      "source": [
        "import numpy as np\n",
        "import matplotlib.pyplot as plt\n",
        "import cv2"
      ],
      "execution_count": null,
      "outputs": []
    },
    {
      "cell_type": "code",
      "metadata": {
        "id": "k9zUAXZNgETR",
        "colab_type": "code",
        "colab": {}
      },
      "source": [
        "imagen = cv2.imread('perro.jpg')\n",
        "imagen = cv2.cvtColor(imagen, cv2.COLOR_BGR2RGB)\n",
        "plt.imshow(imagen)\n",
        "imagen.shape"
      ],
      "execution_count": null,
      "outputs": []
    },
    {
      "cell_type": "code",
      "metadata": {
        "id": "-ycmmiUfgjAa",
        "colab_type": "code",
        "colab": {}
      },
      "source": [
        "imagen_2 = cv2.imread('cara.jpg')\n",
        "imagen_2 = cv2.cvtColor(imagen_2, cv2.COLOR_BGR2RGB)\n",
        "plt.imshow(imagen_2)\n",
        "imagen_2.shape"
      ],
      "execution_count": null,
      "outputs": []
    },
    {
      "cell_type": "markdown",
      "metadata": {
        "id": "a_m9oyTLhGSb",
        "colab_type": "text"
      },
      "source": [
        "### Identificar la posicion de la imagen en mapa de calor"
      ]
    },
    {
      "cell_type": "code",
      "metadata": {
        "id": "4kKXooQfhO_H",
        "colab_type": "code",
        "colab": {}
      },
      "source": [
        "metodo = cv2.TM_CCOEFF\n",
        "resultado = cv2.matchTemplate(imagen, imagen_2, metodo)\n",
        "plt.imshow(resultado)\n",
        "imagen_2.shape"
      ],
      "execution_count": null,
      "outputs": []
    },
    {
      "cell_type": "markdown",
      "metadata": {
        "id": "k5hXZkONiGwA",
        "colab_type": "text"
      },
      "source": [
        "### Tomamos la posiciones del mapa de calor"
      ]
    },
    {
      "cell_type": "code",
      "metadata": {
        "id": "HnY9zWpzhVDp",
        "colab_type": "code",
        "colab": {}
      },
      "source": [
        "valor_min, valor_max, pos_min, pos_max = cv2.minMaxLoc(resultado)"
      ],
      "execution_count": null,
      "outputs": []
    },
    {
      "cell_type": "code",
      "metadata": {
        "id": "KfPagUcUiql8",
        "colab_type": "code",
        "colab": {}
      },
      "source": [
        "imagen_2.shape"
      ],
      "execution_count": null,
      "outputs": []
    },
    {
      "cell_type": "code",
      "metadata": {
        "id": "MFJGrazLiu0N",
        "colab_type": "code",
        "colab": {}
      },
      "source": [
        "# Asignar los valores del tamaño de la imagen\n",
        "alto, ancho, colores = imagen_2.shape\n",
        "print(alto, ancho, colores)"
      ],
      "execution_count": null,
      "outputs": []
    },
    {
      "cell_type": "markdown",
      "metadata": {
        "id": "kjNb1Hj0jWGM",
        "colab_type": "text"
      },
      "source": [
        "## variables del rectangulo"
      ]
    },
    {
      "cell_type": "code",
      "metadata": {
        "id": "8AIhYOOkjZyZ",
        "colab_type": "code",
        "colab": {}
      },
      "source": [
        "top_izquierda = pos_max\n",
        "botton_derecha = (pos_max[0] + ancho, pos_max[1] + alto)\n"
      ],
      "execution_count": null,
      "outputs": []
    },
    {
      "cell_type": "code",
      "metadata": {
        "id": "LZ7Hr2GRkHsO",
        "colab_type": "code",
        "colab": {}
      },
      "source": [
        "cv2.rectangle(imagen, top_izquierda, botton_derecha, (255,0,0), 8)\n",
        "plt.imshow(imagen)"
      ],
      "execution_count": null,
      "outputs": []
    },
    {
      "cell_type": "markdown",
      "metadata": {
        "id": "4p9nmT5v2Pj4",
        "colab_type": "text"
      },
      "source": [
        "# Detector de esquinas\n"
      ]
    },
    {
      "cell_type": "code",
      "metadata": {
        "id": "G21oiT5mkwQG",
        "colab_type": "code",
        "colab": {}
      },
      "source": [
        "ajedrez = cv2.imread('tablero-ajedrez.png')\n",
        "ajedrez_gris = cv2.cvtColor(ajedrez, cv2.COLOR_BGR2GRAY)\n",
        "plt.imshow(ajedrez_gris, cmap='gray')"
      ],
      "execution_count": null,
      "outputs": []
    },
    {
      "cell_type": "code",
      "metadata": {
        "id": "6wELODLy2v0K",
        "colab_type": "code",
        "colab": {}
      },
      "source": [
        "esquinas = cv2.goodFeaturesToTrack(ajedrez_gris, 100, 0.01, 10)\n",
        "esquinas[:10]"
      ],
      "execution_count": null,
      "outputs": []
    },
    {
      "cell_type": "code",
      "metadata": {
        "id": "5shHJmG24QTN",
        "colab_type": "code",
        "colab": {}
      },
      "source": [
        "# pasar a enteros\n",
        "esquinas = np.int0(esquinas)\n",
        "esquinas[:10]"
      ],
      "execution_count": null,
      "outputs": []
    },
    {
      "cell_type": "markdown",
      "metadata": {
        "id": "87FRvfJk55f5",
        "colab_type": "text"
      },
      "source": [
        "## Pintar las esquinas"
      ]
    },
    {
      "cell_type": "code",
      "metadata": {
        "id": "LfmAhA5L4u-5",
        "colab_type": "code",
        "colab": {}
      },
      "source": [
        "for i in esquinas:\n",
        "  x, y = i.ravel()# metodo para tomar una a una\n",
        "  cv2.circle(ajedrez, (x,y), 4, (0,0,255), 20)\n",
        "\n",
        "plt.imshow(ajedrez)"
      ],
      "execution_count": null,
      "outputs": []
    },
    {
      "cell_type": "code",
      "metadata": {
        "id": "p7Z542Dy6I8q",
        "colab_type": "code",
        "colab": {}
      },
      "source": [
        "for i in esquinas:\n",
        "  x, y = i.ravel()# metodo para tomar una a una\n",
        "  cv2.circle(ajedrez, (x,y), 4, (0,255,0), 20)\n",
        "\n",
        "plt.imshow(ajedrez)"
      ],
      "execution_count": null,
      "outputs": []
    }
  ]
}