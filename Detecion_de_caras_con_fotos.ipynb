{
  "nbformat": 4,
  "nbformat_minor": 0,
  "metadata": {
    "colab": {
      "name": "Detecion de caras con fotos.ipynb",
      "provenance": [],
      "private_outputs": true,
      "authorship_tag": "ABX9TyODr7MgNF7nc/1n5f1ia8i4",
      "include_colab_link": true
    },
    "kernelspec": {
      "name": "python3",
      "display_name": "Python 3"
    }
  },
  "cells": [
    {
      "cell_type": "markdown",
      "metadata": {
        "id": "view-in-github",
        "colab_type": "text"
      },
      "source": [
        "<a href=\"https://colab.research.google.com/github/INFINITY-RUBER/Python-y-OpenC--para-visi-n-por-ordenador--Computer-Vision-/blob/master/Detecion_de_caras_con_fotos.ipynb\" target=\"_parent\"><img src=\"https://colab.research.google.com/assets/colab-badge.svg\" alt=\"Open In Colab\"/></a>"
      ]
    },
    {
      "cell_type": "code",
      "metadata": {
        "id": "67HgBXV5qJPi",
        "colab_type": "code",
        "colab": {}
      },
      "source": [
        "import numpy as np\n",
        "import matplotlib.pyplot as plt\n",
        "import cv2"
      ],
      "execution_count": null,
      "outputs": []
    },
    {
      "cell_type": "code",
      "metadata": {
        "id": "Ai2sFhpJqf_J",
        "colab_type": "code",
        "colab": {}
      },
      "source": [
        "rostro1 = cv2.imread('rostro1.png',0)\n",
        "plt.imshow(rostro1, cmap='gray')"
      ],
      "execution_count": null,
      "outputs": []
    },
    {
      "cell_type": "code",
      "metadata": {
        "id": "qMo2Rm9KroPO",
        "colab_type": "code",
        "colab": {}
      },
      "source": [
        "familia = cv2.imread('familia.png',0)\n",
        "plt.imshow(familia,cmap='gray')"
      ],
      "execution_count": null,
      "outputs": []
    },
    {
      "cell_type": "code",
      "metadata": {
        "id": "t3aVSb0y9_je",
        "colab_type": "code",
        "colab": {}
      },
      "source": [
        "cascada_cara = cv2.CascadeClassifier('haarcascade_frontalface_default.xml')\n",
        "#cascada_cara = cv2.CascadeClassifier(cv2.data.haarcascades + 'haarcascade_frontalface_default.xml')\n"
      ],
      "execution_count": null,
      "outputs": []
    },
    {
      "cell_type": "code",
      "metadata": {
        "id": "EhLbIMSz-m5E",
        "colab_type": "code",
        "colab": {}
      },
      "source": [
        "def detectar_cara(imagen):\n",
        "  imagen1 = imagen.copy()\n",
        "  rectangulos = cascada_cara.detectMultiScale(imagen1)\n",
        "  for (x,y,w,h) in rectangulos:\n",
        "    cv2.rectangle(imagen1,(x,y),(x+w,y+h),(255,0,0),10)\n",
        "    return imagen1\n",
        "\n"
      ],
      "execution_count": null,
      "outputs": []
    },
    {
      "cell_type": "code",
      "metadata": {
        "id": "4TjwvwWWGqsG",
        "colab_type": "code",
        "colab": {}
      },
      "source": [
        "#!pip install opencv-python==3.4.2.16\n",
        "#!pip install opencv-contrib-python==3.4.2.16"
      ],
      "execution_count": null,
      "outputs": []
    },
    {
      "cell_type": "code",
      "metadata": {
        "id": "QKMeegtpFCv7",
        "colab_type": "code",
        "colab": {}
      },
      "source": [
        "resultado = detectar_cara(rostro1)\n",
        "plt.imshow(resultado, cmap='gray')"
      ],
      "execution_count": null,
      "outputs": []
    },
    {
      "cell_type": "code",
      "metadata": {
        "id": "j59OpPrjIVam",
        "colab_type": "code",
        "colab": {}
      },
      "source": [
        "resultado = detectar_cara(familia)\n",
        "plt.imshow(resultado, cmap='gray')"
      ],
      "execution_count": null,
      "outputs": []
    },
    {
      "cell_type": "code",
      "metadata": {
        "id": "qv0Yvz3SIYcK",
        "colab_type": "code",
        "colab": {}
      },
      "source": [
        "#eye_cascade = cv2.CascadeClassifier(cv2.data.haarcascades + 'haarcascade_eye.xml')\n",
        "eye_cascade = cv2.CascadeClassifier('haarcascade_eye.xml')\n",
        "def detectar_ojos(imagen):\n",
        "  imagen1 = imagen.copy()\n",
        "  rectangulos = eye_cascade.detectMultiScale(imagen1)\n",
        "  for (x,y,w,h) in rectangulos:\n",
        "    cv2.rectangle(imagen1,(x,y),(x+w,y+h),(255,0,0),10)\n",
        "    return imagen1"
      ],
      "execution_count": null,
      "outputs": []
    },
    {
      "cell_type": "code",
      "metadata": {
        "id": "bO76brGqJOYJ",
        "colab_type": "code",
        "colab": {}
      },
      "source": [
        "resultado = detectar_ojos(rostro1)\n",
        "plt.imshow(resultado, cmap='gray')"
      ],
      "execution_count": null,
      "outputs": []
    }
  ]
}