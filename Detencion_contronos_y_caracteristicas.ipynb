{
  "nbformat": 4,
  "nbformat_minor": 0,
  "metadata": {
    "colab": {
      "name": "Detencion contronos y caracteristicas.ipynb",
      "provenance": [],
      "private_outputs": true,
      "authorship_tag": "ABX9TyMrFLUOZKCuRgwCkmXSuD6g",
      "include_colab_link": true
    },
    "kernelspec": {
      "name": "python3",
      "display_name": "Python 3"
    }
  },
  "cells": [
    {
      "cell_type": "markdown",
      "metadata": {
        "id": "view-in-github",
        "colab_type": "text"
      },
      "source": [
        "<a href=\"https://colab.research.google.com/github/INFINITY-RUBER/Python-y-OpenC--para-visi-n-por-ordenador--Computer-Vision-/blob/master/Detencion_contronos_y_caracteristicas.ipynb\" target=\"_parent\"><img src=\"https://colab.research.google.com/assets/colab-badge.svg\" alt=\"Open In Colab\"/></a>"
      ]
    },
    {
      "cell_type": "code",
      "metadata": {
        "id": "SLzZBA0w7e2h",
        "colab_type": "code",
        "colab": {}
      },
      "source": [
        "import numpy as np\n",
        "import matplotlib.pyplot as plt\n",
        "import cv2"
      ],
      "execution_count": null,
      "outputs": []
    },
    {
      "cell_type": "code",
      "metadata": {
        "id": "k2qPgUBM7hxX",
        "colab_type": "code",
        "colab": {}
      },
      "source": [
        "imagen = cv2.imread('cara.jpg')\n",
        "imagen = cv2.cvtColor(imagen, cv2.COLOR_BGR2RGB)\n",
        "plt.imshow(imagen)\n",
        "imagen.shape"
      ],
      "execution_count": null,
      "outputs": []
    },
    {
      "cell_type": "markdown",
      "metadata": {
        "id": "WfLfn0nU73vR",
        "colab_type": "text"
      },
      "source": [
        "### Contorno del objeto"
      ]
    },
    {
      "cell_type": "code",
      "metadata": {
        "id": "3Bm6ZsjO7x53",
        "colab_type": "code",
        "colab": {}
      },
      "source": [
        "contorno = cv2.Canny(image=imagen, threshold1=100,threshold2=100)\n",
        "plt.imshow(contorno)"
      ],
      "execution_count": null,
      "outputs": []
    },
    {
      "cell_type": "code",
      "metadata": {
        "id": "YeJWxGzh9sYS",
        "colab_type": "code",
        "colab": {}
      },
      "source": [
        "imagen = cv2.blur(imagen, ksize=(5,5))"
      ],
      "execution_count": null,
      "outputs": []
    },
    {
      "cell_type": "code",
      "metadata": {
        "id": "YaEaTDKB-BFg",
        "colab_type": "code",
        "colab": {}
      },
      "source": [
        "contorno = cv2.Canny(image=imagen, threshold1=100,threshold2=100)\n",
        "plt.imshow(contorno)"
      ],
      "execution_count": null,
      "outputs": []
    },
    {
      "cell_type": "markdown",
      "metadata": {
        "id": "qomojRI--6K7",
        "colab_type": "text"
      },
      "source": [
        "# Detectar caracteristicas"
      ]
    },
    {
      "cell_type": "code",
      "metadata": {
        "id": "aW4-fvzh-965",
        "colab_type": "code",
        "colab": {}
      },
      "source": [
        "cereal = cv2.imread('cereal.png')\n",
        "cereal = cv2.cvtColor(cereal, cv2.COLOR_BGR2RGB)\n",
        "plt.imshow(cereal)"
      ],
      "execution_count": null,
      "outputs": []
    },
    {
      "cell_type": "code",
      "metadata": {
        "id": "Dc2Z67O0_OY1",
        "colab_type": "code",
        "colab": {}
      },
      "source": [
        "cereales = cv2.imread('cereales.png')\n",
        "cereales = cv2.cvtColor(cereales, cv2.COLOR_BGR2RGB)\n",
        "plt.imshow(cereales)"
      ],
      "execution_count": null,
      "outputs": []
    },
    {
      "cell_type": "code",
      "metadata": {
        "id": "T70mbYNXBL4g",
        "colab_type": "code",
        "colab": {}
      },
      "source": [
        "!pip install opencv-python==3.4.2.16\n",
        "!pip install opencv-contrib-python==3.4.2.16"
      ],
      "execution_count": null,
      "outputs": []
    },
    {
      "cell_type": "code",
      "metadata": {
        "id": "uB0fTv6f_Xq-",
        "colab_type": "code",
        "colab": {}
      },
      "source": [
        "sift = cv2.xfeatures2d.SIFT_create()\n"
      ],
      "execution_count": null,
      "outputs": []
    },
    {
      "cell_type": "code",
      "metadata": {
        "id": "ZOAC7G4RAWOa",
        "colab_type": "code",
        "colab": {}
      },
      "source": [
        "kp1, des1 = sift.detectAndCompute(cereal, None)\n",
        "kp2, des2 = sift.detectAndCompute(cereales, None)"
      ],
      "execution_count": null,
      "outputs": []
    },
    {
      "cell_type": "code",
      "metadata": {
        "id": "GFyzu8SQCIeK",
        "colab_type": "code",
        "colab": {}
      },
      "source": [
        "des1"
      ],
      "execution_count": null,
      "outputs": []
    },
    {
      "cell_type": "code",
      "metadata": {
        "id": "bdbIDImXCLXe",
        "colab_type": "code",
        "colab": {}
      },
      "source": [
        "des2"
      ],
      "execution_count": null,
      "outputs": []
    },
    {
      "cell_type": "code",
      "metadata": {
        "id": "SYi3T4sjCw0z",
        "colab_type": "code",
        "colab": {}
      },
      "source": [
        "indice = dict(algorithm=0, trees=5)\n",
        "indice"
      ],
      "execution_count": null,
      "outputs": []
    },
    {
      "cell_type": "code",
      "metadata": {
        "id": "a3wQoVfnDE9k",
        "colab_type": "code",
        "colab": {}
      },
      "source": [
        "busqueda = dict(checks=50)\n",
        "busqueda"
      ],
      "execution_count": null,
      "outputs": []
    },
    {
      "cell_type": "code",
      "metadata": {
        "id": "MWqD7h0yDN-O",
        "colab_type": "code",
        "colab": {}
      },
      "source": [
        "flan = cv2.FlannBasedMatcher(indice, busqueda)"
      ],
      "execution_count": null,
      "outputs": []
    },
    {
      "cell_type": "code",
      "metadata": {
        "id": "cWeiEM9cDb4f",
        "colab_type": "code",
        "colab": {}
      },
      "source": [
        "emparejamientos = flan.knnMatch(des1, des2, k=2)\n",
        "emparejamientos"
      ],
      "execution_count": null,
      "outputs": []
    },
    {
      "cell_type": "code",
      "metadata": {
        "id": "4xV3g8CED2iY",
        "colab_type": "code",
        "colab": {}
      },
      "source": [
        "mejores = []\n",
        "for e1, e2 in emparejamientos:\n",
        "  if e1.distance < 0.7*e2.distance:\n",
        "    mejores.append([e1])"
      ],
      "execution_count": null,
      "outputs": []
    },
    {
      "cell_type": "code",
      "metadata": {
        "id": "c0vmFcWPFHEg",
        "colab_type": "code",
        "colab": {}
      },
      "source": [
        "e1.distance, e2.distance"
      ],
      "execution_count": null,
      "outputs": []
    },
    {
      "cell_type": "code",
      "metadata": {
        "id": "Jp1NvTFnFVk5",
        "colab_type": "code",
        "colab": {}
      },
      "source": [
        "mejores"
      ],
      "execution_count": null,
      "outputs": []
    },
    {
      "cell_type": "code",
      "metadata": {
        "id": "5iabw1hmFjzt",
        "colab_type": "code",
        "colab": {}
      },
      "source": [
        "imagen_emparejamintos = cv2.drawMatchesKnn(cereal, kp1, cereales, kp2, mejores[0:30], None, flags=0)\n",
        "imagen_emparejamintos = cv2.cvtColor(imagen_emparejamintos, cv2.COLOR_BGR2RGB)\n",
        "plt.imshow(imagen_emparejamintos)"
      ],
      "execution_count": null,
      "outputs": []
    },
    {
      "cell_type": "code",
      "metadata": {
        "id": "XEl0CkCWHZ2I",
        "colab_type": "code",
        "colab": {}
      },
      "source": [
        "figura = plt.figure(figsize=(12,12))\n",
        "lienzo = figura.add_subplot(111)\n",
        "lienzo.imshow(imagen_emparejamintos)"
      ],
      "execution_count": null,
      "outputs": []
    }
  ]
}