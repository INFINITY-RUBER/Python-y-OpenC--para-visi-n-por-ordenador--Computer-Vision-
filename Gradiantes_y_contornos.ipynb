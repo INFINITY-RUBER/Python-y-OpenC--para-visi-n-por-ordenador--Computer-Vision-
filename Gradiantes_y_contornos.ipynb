{
  "nbformat": 4,
  "nbformat_minor": 0,
  "metadata": {
    "colab": {
      "name": "Gradiantes y contornos.ipynb",
      "provenance": [],
      "private_outputs": true,
      "toc_visible": true,
      "authorship_tag": "ABX9TyMYzYsuoba2j0wKppF9n0ah",
      "include_colab_link": true
    },
    "kernelspec": {
      "name": "python3",
      "display_name": "Python 3"
    }
  },
  "cells": [
    {
      "cell_type": "markdown",
      "metadata": {
        "id": "view-in-github",
        "colab_type": "text"
      },
      "source": [
        "<a href=\"https://colab.research.google.com/github/INFINITY-RUBER/Python-y-OpenC--para-visi-n-por-ordenador--Computer-Vision-/blob/master/Gradiantes_y_contornos.ipynb\" target=\"_parent\"><img src=\"https://colab.research.google.com/assets/colab-badge.svg\" alt=\"Open In Colab\"/></a>"
      ]
    },
    {
      "cell_type": "markdown",
      "metadata": {
        "id": "I-ygjuyUwUvY",
        "colab_type": "text"
      },
      "source": [
        "## Gradiantes y contornos de una imagen"
      ]
    },
    {
      "cell_type": "code",
      "metadata": {
        "id": "XBmCk8AHwZen",
        "colab_type": "code",
        "colab": {}
      },
      "source": [
        "import numpy as np\n",
        "import matplotlib.pyplot as plt\n",
        "import cv2"
      ],
      "execution_count": null,
      "outputs": []
    },
    {
      "cell_type": "code",
      "metadata": {
        "id": "qwn4BorfwZcm",
        "colab_type": "code",
        "colab": {}
      },
      "source": [
        "imagen = cv2.imread('sudoku.jpg',0)\n",
        "plt.imshow(imagen, cmap='gray')"
      ],
      "execution_count": null,
      "outputs": []
    },
    {
      "cell_type": "markdown",
      "metadata": {
        "id": "AqCwVIqrxDOn",
        "colab_type": "text"
      },
      "source": [
        "## Identificar Contornos"
      ]
    },
    {
      "cell_type": "code",
      "metadata": {
        "id": "q0KAtDPUwZYe",
        "colab_type": "code",
        "colab": {}
      },
      "source": [
        "sobelx = cv2.Sobel(imagen, cv2.CV_64F,1,0, ksize=5) # 1,0 detecta vertical\n",
        "plt.imshow(sobelx, cmap='gray')"
      ],
      "execution_count": null,
      "outputs": []
    },
    {
      "cell_type": "code",
      "metadata": {
        "id": "bLOzDvYqx2OK",
        "colab_type": "code",
        "colab": {}
      },
      "source": [
        "sobely = cv2.Sobel(imagen, cv2.CV_64F,0,1, ksize=5) # 0,1 detecta horizontal\n",
        "plt.imshow(sobely, cmap='gray')"
      ],
      "execution_count": null,
      "outputs": []
    },
    {
      "cell_type": "markdown",
      "metadata": {
        "id": "ide6TyV0zZg2",
        "colab_type": "text"
      },
      "source": [
        "## Unificar las dos imagenes"
      ]
    },
    {
      "cell_type": "code",
      "metadata": {
        "id": "DpfD3E_UwZRI",
        "colab_type": "code",
        "colab": {}
      },
      "source": [
        "imagen_2 = cv2.addWeighted(src1= sobelx, alpha=0.5,src2=sobely,beta=0.5,gamma=0)\n",
        "plt.imshow(imagen_2, cmap='gray')"
      ],
      "execution_count": null,
      "outputs": []
    },
    {
      "cell_type": "markdown",
      "metadata": {
        "id": "hncmxOPf0BYC",
        "colab_type": "text"
      },
      "source": [
        "## Laplacian"
      ]
    },
    {
      "cell_type": "code",
      "metadata": {
        "id": "q0Dy5-N8wY--",
        "colab_type": "code",
        "colab": {}
      },
      "source": [
        "laplacian = cv2.Laplacian(imagen, cv2.CV_64F)\n",
        "plt.imshow(laplacian, cmap='gray')"
      ],
      "execution_count": null,
      "outputs": []
    },
    {
      "cell_type": "markdown",
      "metadata": {
        "id": "cHzaamn6wUlA",
        "colab_type": "text"
      },
      "source": [
        "# OPERADORES MORFOLOGICOS\n",
        "## Efectos de erosion y eliminacion de ruido "
      ]
    },
    {
      "cell_type": "code",
      "metadata": {
        "id": "sZJ6GlBy0ewU",
        "colab_type": "code",
        "colab": {}
      },
      "source": [
        "imagen = np.zeros((300, 600))#(Alto x Ancho)\n",
        "fuente = cv2.FONT_HERSHEY_SIMPLEX\n",
        "cv2.putText(imagen, text='ABCDE',org=(50,200),fontFace=fuente,fontScale=5,color=(255,255,255),thickness=18)\n",
        "plt.imshow(imagen, cmap='gray')"
      ],
      "execution_count": null,
      "outputs": []
    },
    {
      "cell_type": "code",
      "metadata": {
        "id": "Dlc9lHcw4W04",
        "colab_type": "code",
        "colab": {}
      },
      "source": [
        "imagen = np.zeros((300, 600))#(Alto x Ancho)\n",
        "fuente = cv2.FONT_HERSHEY_SIMPLEX\n",
        "cv2.putText(imagen, text='ABCDE',org=(50,200),fontFace=fuente,fontScale=5,color=(255,255,255),thickness=8)\n",
        "plt.imshow(imagen, cmap='gray')"
      ],
      "execution_count": null,
      "outputs": []
    },
    {
      "cell_type": "markdown",
      "metadata": {
        "id": "4Ys9rX594wl5",
        "colab_type": "text"
      },
      "source": [
        "### Erocionar imagen"
      ]
    },
    {
      "cell_type": "code",
      "metadata": {
        "id": "6Vi_ogIf4zwC",
        "colab_type": "code",
        "colab": {}
      },
      "source": [
        "nucleo = np.ones((5,5),dtype=np.uint8)\n",
        "nucleo"
      ],
      "execution_count": null,
      "outputs": []
    },
    {
      "cell_type": "code",
      "metadata": {
        "id": "EXbvuS7J5OF8",
        "colab_type": "code",
        "colab": {}
      },
      "source": [
        "imagen_2 = cv2.erode(imagen,nucleo, iterations=1)\n",
        "plt.imshow(imagen_2, cmap='gray')"
      ],
      "execution_count": null,
      "outputs": []
    },
    {
      "cell_type": "markdown",
      "metadata": {
        "id": "BUzkk3cA5-jy",
        "colab_type": "text"
      },
      "source": [
        "## Imagen de ruido"
      ]
    },
    {
      "cell_type": "code",
      "metadata": {
        "id": "yPkHBVOs6B9r",
        "colab_type": "code",
        "colab": {}
      },
      "source": [
        "ruido = np.random.randint(low=0, high=2, size=(300,600))\n",
        "plt.imshow(ruido, cmap='gray')"
      ],
      "execution_count": null,
      "outputs": []
    },
    {
      "cell_type": "markdown",
      "metadata": {
        "id": "YaXjm2px7KCS",
        "colab_type": "text"
      },
      "source": [
        "## unir el ruido a una imagen"
      ]
    },
    {
      "cell_type": "code",
      "metadata": {
        "id": "P9quNxlO7NIM",
        "colab_type": "code",
        "colab": {}
      },
      "source": [
        "ruido = ruido * 255\n",
        "imagen_ruido =  imagen + ruido\n",
        "plt.imshow(imagen_ruido, cmap='gray')"
      ],
      "execution_count": null,
      "outputs": []
    },
    {
      "cell_type": "markdown",
      "metadata": {
        "id": "orK_WjbF8qqm",
        "colab_type": "text"
      },
      "source": [
        "## Quitar Ruido"
      ]
    },
    {
      "cell_type": "code",
      "metadata": {
        "id": "e5xMAEAv7SUe",
        "colab_type": "code",
        "colab": {}
      },
      "source": [
        "image_sin_ruido = cv2.morphologyEx(imagen, cv2.MORPH_OPEN, nucleo)\n",
        "plt.imshow(image_sin_ruido, cmap='gray')"
      ],
      "execution_count": null,
      "outputs": []
    },
    {
      "cell_type": "markdown",
      "metadata": {
        "id": "oVyddHbF9rDw",
        "colab_type": "text"
      },
      "source": [
        "### Eliminar relleno"
      ]
    },
    {
      "cell_type": "code",
      "metadata": {
        "id": "jfRrHgAQ9uA6",
        "colab_type": "code",
        "colab": {}
      },
      "source": [
        "gradiente = cv2.morphologyEx(imagen, cv2.MORPH_GRADIENT, nucleo)\n",
        "plt.imshow(gradiente, cmap='gray')"
      ],
      "execution_count": null,
      "outputs": []
    }
  ]
}