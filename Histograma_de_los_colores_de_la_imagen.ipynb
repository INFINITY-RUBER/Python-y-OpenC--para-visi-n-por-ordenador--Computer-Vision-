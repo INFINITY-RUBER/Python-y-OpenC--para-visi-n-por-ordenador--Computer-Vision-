{
  "nbformat": 4,
  "nbformat_minor": 0,
  "metadata": {
    "colab": {
      "name": "Histograma de los colores de la imagen.ipynb",
      "provenance": [],
      "private_outputs": true,
      "authorship_tag": "ABX9TyOwsbJ8bamLp81yV2MJL3et",
      "include_colab_link": true
    },
    "kernelspec": {
      "name": "python3",
      "display_name": "Python 3"
    }
  },
  "cells": [
    {
      "cell_type": "markdown",
      "metadata": {
        "id": "view-in-github",
        "colab_type": "text"
      },
      "source": [
        "<a href=\"https://colab.research.google.com/github/INFINITY-RUBER/Python-y-OpenC--para-visi-n-por-ordenador--Computer-Vision-/blob/master/Histograma_de_los_colores_de_la_imagen.ipynb\" target=\"_parent\"><img src=\"https://colab.research.google.com/assets/colab-badge.svg\" alt=\"Open In Colab\"/></a>"
      ]
    },
    {
      "cell_type": "code",
      "metadata": {
        "id": "lZmfw_9KB6VJ",
        "colab_type": "code",
        "colab": {}
      },
      "source": [
        "import numpy as np\n",
        "import matplotlib.pyplot as plt\n",
        "import cv2"
      ],
      "execution_count": null,
      "outputs": []
    },
    {
      "cell_type": "code",
      "metadata": {
        "id": "SvYF2YSSCRtT",
        "colab_type": "code",
        "colab": {}
      },
      "source": [
        "imagen_2 = cv2.imread('perro.jpg')\n",
        "imagen_2 = cv2.cvtColor(imagen_2, cv2.COLOR_BGR2RGB)\n",
        "plt.imshow(imagen_2)\n",
        "imagen_2.shape"
      ],
      "execution_count": null,
      "outputs": []
    },
    {
      "cell_type": "code",
      "metadata": {
        "id": "o1N-6irZCRjl",
        "colab_type": "code",
        "colab": {}
      },
      "source": [
        "histo = cv2.calcHist([imagen_2],[0],None, [255],[0,256])\n",
        "plt.plot(histo)"
      ],
      "execution_count": null,
      "outputs": []
    },
    {
      "cell_type": "markdown",
      "metadata": {
        "id": "5vruU0lZD4II",
        "colab_type": "text"
      },
      "source": [
        "### Histograma para los 3 colores"
      ]
    },
    {
      "cell_type": "code",
      "metadata": {
        "id": "EGuJ-9oSD3mf",
        "colab_type": "code",
        "colab": {}
      },
      "source": [
        "colores = ('b','g','r')\n",
        "for i, color in enumerate(colores):\n",
        "  histo = cv2.calcHist([imagen_2],[i],None, [255],[0,256])\n",
        "  plt.plot(histo)\n",
        "  plt.xlim([0,256])\n"
      ],
      "execution_count": null,
      "outputs": []
    }
  ]
}